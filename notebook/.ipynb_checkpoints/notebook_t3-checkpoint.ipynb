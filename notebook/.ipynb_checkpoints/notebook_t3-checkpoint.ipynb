{
 "cells": [
  {
   "attachments": {},
   "cell_type": "markdown",
   "metadata": {},
   "source": [
    "# Trabalho 3 - Banco de Dados\n",
    "\n",
    "Professor: Altigran Soares\n",
    "\n",
    "Aluno: \n",
    "Noah Diunkz"
   ]
  },
  {
   "attachments": {},
   "cell_type": "markdown",
   "metadata": {
    "jp-MarkdownHeadingCollapsed": true
   },
   "source": [
    "## PARTE 1"
   ]
  },
  {
   "attachments": {},
   "cell_type": "markdown",
   "metadata": {
    "jp-MarkdownHeadingCollapsed": true
   },
   "source": [
    "### Tarefa 1 – Instalação do PostgreSQL"
   ]
  },
  {
   "cell_type": "markdown",
   "metadata": {},
   "source": [
    "O postgres 13 foi instalado via dockerfile, no comando:\n",
    "\n",
    "```bash\n",
    "RUN apt install postgresql-13\n",
    "```"
   ]
  },
  {
   "cell_type": "code",
   "execution_count": 1,
   "metadata": {
    "vscode": {
     "languageId": "plaintext"
    }
   },
   "outputs": [
    {
     "name": "stdout",
     "output_type": "stream",
     "text": [
      "psql (PostgreSQL) 13.11 (Debian 13.11-0+deb11u1)\n"
     ]
    }
   ],
   "source": [
    "!psql --version"
   ]
  },
  {
   "attachments": {},
   "cell_type": "markdown",
   "metadata": {
    "jp-MarkdownHeadingCollapsed": true
   },
   "source": [
    "### Tarefa 2 – Geração de um BD de testes"
   ]
  },
  {
   "cell_type": "code",
   "execution_count": 2,
   "metadata": {
    "vscode": {
     "languageId": "plaintext"
    }
   },
   "outputs": [
    {
     "name": "stdout",
     "output_type": "stream",
     "text": [
      "/app/notebook\n"
     ]
    }
   ],
   "source": [
    "# verificando a pasta atual\n",
    "!pwd"
   ]
  },
  {
   "cell_type": "code",
   "execution_count": 3,
   "metadata": {},
   "outputs": [
    {
     "name": "stdout",
     "output_type": "stream",
     "text": [
      "/app/tpch-pgsql\n",
      "LICENSE   README.md  iceis2012.pdf  query_root\t      tests\t  tpch4pgsql\n",
      "Makefile  docs\t     images\t    requirements.txt  tpch-dbgen  tpch_pgsql.py\n"
     ]
    }
   ],
   "source": [
    "# entrando na pasta tpch-pgsql que está dentro da pasta app\n",
    "%cd /app/tpch-pgsql\n",
    "!ls"
   ]
  },
  {
   "cell_type": "code",
   "execution_count": 4,
   "metadata": {
    "scrolled": true
   },
   "outputs": [
    {
     "name": "stdout",
     "output_type": "stream",
     "text": [
      "gcc -g -DDBNAME=\\\"dss\\\" -DLINUX -DORACLE -DTPCH -DRNG_TEST -D_FILE_OFFSET_BITS=64   -c -o build.o build.c\n",
      "gcc -g -DDBNAME=\\\"dss\\\" -DLINUX -DORACLE -DTPCH -DRNG_TEST -D_FILE_OFFSET_BITS=64   -c -o driver.o driver.c\n",
      "gcc -g -DDBNAME=\\\"dss\\\" -DLINUX -DORACLE -DTPCH -DRNG_TEST -D_FILE_OFFSET_BITS=64   -c -o bm_utils.o bm_utils.c\n",
      "gcc -g -DDBNAME=\\\"dss\\\" -DLINUX -DORACLE -DTPCH -DRNG_TEST -D_FILE_OFFSET_BITS=64   -c -o rnd.o rnd.c\n",
      "gcc -g -DDBNAME=\\\"dss\\\" -DLINUX -DORACLE -DTPCH -DRNG_TEST -D_FILE_OFFSET_BITS=64   -c -o print.o print.c\n",
      "gcc -g -DDBNAME=\\\"dss\\\" -DLINUX -DORACLE -DTPCH -DRNG_TEST -D_FILE_OFFSET_BITS=64   -c -o load_stub.o load_stub.c\n",
      "gcc -g -DDBNAME=\\\"dss\\\" -DLINUX -DORACLE -DTPCH -DRNG_TEST -D_FILE_OFFSET_BITS=64   -c -o bcd2.o bcd2.c\n",
      "gcc -g -DDBNAME=\\\"dss\\\" -DLINUX -DORACLE -DTPCH -DRNG_TEST -D_FILE_OFFSET_BITS=64   -c -o speed_seed.o speed_seed.c\n",
      "gcc -g -DDBNAME=\\\"dss\\\" -DLINUX -DORACLE -DTPCH -DRNG_TEST -D_FILE_OFFSET_BITS=64   -c -o text.o text.c\n",
      "gcc -g -DDBNAME=\\\"dss\\\" -DLINUX -DORACLE -DTPCH -DRNG_TEST -D_FILE_OFFSET_BITS=64   -c -o permute.o permute.c\n",
      "gcc -g -DDBNAME=\\\"dss\\\" -DLINUX -DORACLE -DTPCH -DRNG_TEST -D_FILE_OFFSET_BITS=64   -c -o rng64.o rng64.c\n",
      "gcc -g -DDBNAME=\\\"dss\\\" -DLINUX -DORACLE -DTPCH -DRNG_TEST -D_FILE_OFFSET_BITS=64 -O -o dbgen build.o driver.o bm_utils.o rnd.o print.o load_stub.o bcd2.o speed_seed.o text.o permute.o rng64.o -lm\n",
      "gcc -g -DDBNAME=\\\"dss\\\" -DLINUX -DORACLE -DTPCH -DRNG_TEST -D_FILE_OFFSET_BITS=64   -c -o qgen.o qgen.c\n",
      "gcc -g -DDBNAME=\\\"dss\\\" -DLINUX -DORACLE -DTPCH -DRNG_TEST -D_FILE_OFFSET_BITS=64   -c -o varsub.o varsub.c\n",
      "gcc -g -DDBNAME=\\\"dss\\\" -DLINUX -DORACLE -DTPCH -DRNG_TEST -D_FILE_OFFSET_BITS=64 -O -o qgen build.o bm_utils.o qgen.o rnd.o varsub.o text.o bcd2.o permute.o speed_seed.o rng64.o -lm\n",
      "built dbgen from source\n",
      "TPC-H Population Generator (Version 2.14.0)\n",
      "Copyright Transaction Processing Performance Council 1994 - 2010\n",
      "Generating data for suppliers table\n",
      "Preloading text ...                                                                                                                                                                                                                                                                                                              1 1 1 1 1 1 1 1 1 1 1 1 1 1 1 1 1 1 1 1 1 1 1 1 1 1 1 1 1 1 1 1 1 1 1 1 1 1 1 1 1 1 1 1 1 1 1 1 1 1 1 1 1 1 1 1 1 1 1 1 1 1 1 1 1 1 1 1 1 1 1 1 1 1 1 1 1 1 1 1 1 1 1 1 1 1 1 1 1 1 1 1 1 1 1 1 1 1 1 1 1 1 1 1 1 1 1 1 1 1 1 1 1 1 1 1 1 1 1 1 1 1 1 1 1 1 1 1 1 1 1 1 1 1 1 1 1 1 1 1 1 1 1 1 1 1 1 1 1 1 1 1 1 1 1 1 1 2 2 2 2 2 2 2 2 2 2 2 2 2 2 2 2 2 2 2 2 2 2 2 2 2 2 2 2 2 2 2 2 2 2 2 2 2 2 2 2 2 2 2 2 2 2 2 2 2 2 2 2 2 2 2 2 2 2 2 2 2 2 2 2 2 2 2 2 2 2 2 2 2 2 2 2 2 2 2 2 2 2 2 2 2 2 2 2 2 2 2 2 2 2 2 2 2 2 2 2 2 2 2 2 2 2 2 2 2 2 2 2 2 2 2 2 2 2 2 2 2 2 2 2 2 2 2 2 2 2 2 2 2 2 2 2 2 2 2 2 2 2 2 2 2 2 2 2 2 2 2 2 2 2 2 2 2 3 3 3 3 3 3 3 3 3 3 3 3 3 3 3 3 3 3 3 3 3 3 3 3 3 3 3 3 3 3 3 3 3 3 3 3 3 3 3 3 3 3 3 3 3 3 3 3 3 3 3 3 3 3 3 3 3 3 3 3 3 3 3 3 3 3 3 3 3 3 3 3 3 3 3 3 3 3 3 3 3 3 3 3 3 3 3 3 3 3 3 3 3 3 3 3 3 3 3 3 3 3 3 3 3 3 3 3 3 3 3 3 3 3 3 3 3 3 3 3 3 3 3 3 3 3 3 3 3 3 3 3 3 3 3 3 3 3 3 3 3 3 3 3 3 3 3 3 3 3 3 3 3 3 3 3 3 3 4 4 4 4 4 4 4 4 4 4 4 4 4 4 4 4 4 4 4 4 4 4 4 4 4 4 4 4 4 4 4 4 4 4 4 4 4 4 4 4 4 4 4 4 4 4 4 4 4 4 4 4 4 4 4 4 4 4 4 4 4 4 4 4 4 4 4 4 4 4 4 4 4 4 4 4 4 4 4 4 4 4 4 4 4 4 4 4 4 4 4 4 4 4 4 4 4 4 4 4 4 4 4 4 4 4 4 4 4 4 4 4 4 4 4 4 4 4 4 4 4 4 4 4 4 4 4 4 4 4 4 4 4 4 4 4 4 4 4 4 4 4 4 4 4 4 4 4 4 4 4 4 4 4 4 4 4 5 5 5 5 5 5 5 5 5 5 5 5 5 5 5 5 5 5 5 5 5 5 5 5 5 5 5 5 5 5 5 5 5 5 5 5 5 5 5 5 5 5 5 5 5 5 5 5 5 5 5 5 5 5 5 5 5 5 5 5 5 5 5 5 5 5 5 5 5 5 5 5 5 5 5 5 5 5 5 5 5 5 5 5 5 5 5 5 5 5 5 5 5 5 5 5 5 5 5 5 5 5 5 5 5 5 5 5 5 5 5 5 5 5 5 5 5 5 5 5 5 5 5 5 5 5 5 5 5 5 5 5 5 5 5 5 5 5 5 5 5 5 5 5 5 5 5 5 5 5 5 5 5 5 5 5 5 6 6 6 6 6 6 6 6 6 6 6 6 6 6 6 6 6 6 6 6 6 6 6 6 6 6 6 6 6 6 6 6 6 6 6 6 6 6 6 6 6 6 6 6 6 6 6 6 6 6 6 6 6 6 6 6 6 6 6 6 6 6 6 6 6 6 6 6 6 6 6 6 6 6 6 6 6 6 6 6 6 6 6 6 6 6 6 6 6 6 6 6 6 6 6 6 6 6 6 6 6 6 6 6 6 6 6 6 6 6 6 6 6 6 6 6 6 6 6 6 6 6 6 6 6 6 6 6 6 6 6 6 6 6 6 6 6 6 6 6 6 6 6 6 6 6 6 6 6 6 6 6 6 6 6 6 6 6 7 7 7 7 7 7 7 7 7 7 7 7 7 7 7 7 7 7 7 7 7 7 7 7 7 7 7 7 7 7 7 7 7 7 7 7 7 7 7 7 7 7 7 7 7 7 7 7 7 7 7 7 7 7 7 7 7 7 7 7 7 7 7 7 7 7 7 7 7 7 7 7 7 7 7 7 7 7 7 7 7 7 7 7 7 7 7 7 7 7 7 7 7 7 7 7 7 7 7 7 7 7 7 7 7 7 7 7 7 7 7 7 7 7 7 7 7 7 7 7 7 7 7 7 7 7 7 7 7 7 7 7 7 7 7 7 7 7 7 7 7 7 7 7 7 7 7 7 7 7 7 7 7 7 7 7 7 8 8 8 8 8 8 8 8 8 8 8 8 8 8 8 8 8 8 8 8 8 8 8 8 8 8 8 8 8 8 8 8 8 8 8 8 8 8 8 8 8 8 8 8 8 8 8 8 8 8 8 8 8 8 8 8 8 8 8 8 8 8 8 8 8 8 8 8 8 8 8 8 8 8 8 8 8 8 8 8 8 8 8 8 8 8 8 8 8 8 8 8 8 8 8 8 8 8 8 8 8 8 8 8 8 8 8 8 8 8 8 8 8 8 8 8 8 8 8 8 8 8 8 8 8 8 8 8 8 8 8 8 8 8 8 8 8 8 8 8 8 8 8 8 8 8 8 8 8 8 8 8 8 8 8 8 8 9 9 9 9 9 9 9 9 9 9 9 9 9 9 9 9 9 9 9 9 9 9 9 9 9 9 9 9 9 9 9 9 9 9 9 9 9 9 9 9 9 9 9 9 9 9 9 9 9 9 9 9 9 9 9 9 9 9 9 9 9 9 9 9 9 9 9 9 9 9 9 9 9 9 9 9 9 9 9 9 9 9 9 9 9 9 9 9 9 9 9 9 9 9 9 9 9 9 9 9 9 9 9 9 9 9 9 9 9 9 9 9 9 9 9 9 9 9 9 9 9 9 9 9 9 9 9 9 9 9 9 9 9 9 9 9 9 9 9 9 9 9 9 9 9 9 9 9 9 9 9 9 9 9 9 9 91010101010101010\n",
      "done.\n",
      "Generating data for customers tabledone.\n",
      "Generating data for orders/lineitem tablesdone.\n",
      "Generating data for part/partsupplier tablesdone.\n",
      "Generating data for nation tabledone.\n",
      "Generating data for region tabledone.\n",
      "generated data for the load phase\n",
      "TPC-H Population Generator (Version 2.14.0)\n",
      "Copyright Transaction Processing Performance Council 1994 - 2010\n",
      "Generating update pair #1 for orders/lineitem tables\n",
      "Preloading text ...                                                                                                                                                                                                                                                                                                              1 1 1 1 1 1 1 1 1 1 1 1 1 1 1 1 1 1 1 1 1 1 1 1 1 1 1 1 1 1 1 1 1 1 1 1 1 1 1 1 1 1 1 1 1 1 1 1 1 1 1 1 1 1 1 1 1 1 1 1 1 1 1 1 1 1 1 1 1 1 1 1 1 1 1 1 1 1 1 1 1 1 1 1 1 1 1 1 1 1 1 1 1 1 1 1 1 1 1 1 1 1 1 1 1 1 1 1 1 1 1 1 1 1 1 1 1 1 1 1 1 1 1 1 1 1 1 1 1 1 1 1 1 1 1 1 1 1 1 1 1 1 1 1 1 1 1 1 1 1 1 1 1 1 1 1 1 2 2 2 2 2 2 2 2 2 2 2 2 2 2 2 2 2 2 2 2 2 2 2 2 2 2 2 2 2 2 2 2 2 2 2 2 2 2 2 2 2 2 2 2 2 2 2 2 2 2 2 2 2 2 2 2 2 2 2 2 2 2 2 2 2 2 2 2 2 2 2 2 2 2 2 2 2 2 2 2 2 2 2 2 2 2 2 2 2 2 2 2 2 2 2 2 2 2 2 2 2 2 2 2 2 2 2 2 2 2 2 2 2 2 2 2 2 2 2 2 2 2 2 2 2 2 2 2 2 2 2 2 2 2 2 2 2 2 2 2 2 2 2 2 2 2 2 2 2 2 2 2 2 2 2 2 2 3 3 3 3 3 3 3 3 3 3 3 3 3 3 3 3 3 3 3 3 3 3 3 3 3 3 3 3 3 3 3 3 3 3 3 3 3 3 3 3 3 3 3 3 3 3 3 3 3 3 3 3 3 3 3 3 3 3 3 3 3 3 3 3 3 3 3 3 3 3 3 3 3 3 3 3 3 3 3 3 3 3 3 3 3 3 3 3 3 3 3 3 3 3 3 3 3 3 3 3 3 3 3 3 3 3 3 3 3 3 3 3 3 3 3 3 3 3 3 3 3 3 3 3 3 3 3 3 3 3 3 3 3 3 3 3 3 3 3 3 3 3 3 3 3 3 3 3 3 3 3 3 3 3 3 3 3 3 4 4 4 4 4 4 4 4 4 4 4 4 4 4 4 4 4 4 4 4 4 4 4 4 4 4 4 4 4 4 4 4 4 4 4 4 4 4 4 4 4 4 4 4 4 4 4 4 4 4 4 4 4 4 4 4 4 4 4 4 4 4 4 4 4 4 4 4 4 4 4 4 4 4 4 4 4 4 4 4 4 4 4 4 4 4 4 4 4 4 4 4 4 4 4 4 4 4 4 4 4 4 4 4 4 4 4 4 4 4 4 4 4 4 4 4 4 4 4 4 4 4 4 4 4 4 4 4 4 4 4 4 4 4 4 4 4 4 4 4 4 4 4 4 4 4 4 4 4 4 4 4 4 4 4 4 4 5 5 5 5 5 5 5 5 5 5 5 5 5 5 5 5 5 5 5 5 5 5 5 5 5 5 5 5 5 5 5 5 5 5 5 5 5 5 5 5 5 5 5 5 5 5 5 5 5 5 5 5 5 5 5 5 5 5 5 5 5 5 5 5 5 5 5 5 5 5 5 5 5 5 5 5 5 5 5 5 5 5 5 5 5 5 5 5 5 5 5 5 5 5 5 5 5 5 5 5 5 5 5 5 5 5 5 5 5 5 5 5 5 5 5 5 5 5 5 5 5 5 5 5 5 5 5 5 5 5 5 5 5 5 5 5 5 5 5 5 5 5 5 5 5 5 5 5 5 5 5 5 5 5 5 5 5 6 6 6 6 6 6 6 6 6 6 6 6 6 6 6 6 6 6 6 6 6 6 6 6 6 6 6 6 6 6 6 6 6 6 6 6 6 6 6 6 6 6 6 6 6 6 6 6 6 6 6 6 6 6 6 6 6 6 6 6 6 6 6 6 6 6 6 6 6 6 6 6 6 6 6 6 6 6 6 6 6 6 6 6 6 6 6 6 6 6 6 6 6 6 6 6 6 6 6 6 6 6 6 6 6 6 6 6 6 6 6 6 6 6 6 6 6 6 6 6 6 6 6 6 6 6 6 6 6 6 6 6 6 6 6 6 6 6 6 6 6 6 6 6 6 6 6 6 6 6 6 6 6 6 6 6 6 6 7 7 7 7 7 7 7 7 7 7 7 7 7 7 7 7 7 7 7 7 7 7 7 7 7 7 7 7 7 7 7 7 7 7 7 7 7 7 7 7 7 7 7 7 7 7 7 7 7 7 7 7 7 7 7 7 7 7 7 7 7 7 7 7 7 7 7 7 7 7 7 7 7 7 7 7 7 7 7 7 7 7 7 7 7 7 7 7 7 7 7 7 7 7 7 7 7 7 7 7 7 7 7 7 7 7 7 7 7 7 7 7 7 7 7 7 7 7 7 7 7 7 7 7 7 7 7 7 7 7 7 7 7 7 7 7 7 7 7 7 7 7 7 7 7 7 7 7 7 7 7 7 7 7 7 7 7 8 8 8 8 8 8 8 8 8 8 8 8 8 8 8 8 8 8 8 8 8 8 8 8 8 8 8 8 8 8 8 8 8 8 8 8 8 8 8 8 8 8 8 8 8 8 8 8 8 8 8 8 8 8 8 8 8 8 8 8 8 8 8 8 8 8 8 8 8 8 8 8 8 8 8 8 8 8 8 8 8 8 8 8 8 8 8 8 8 8 8 8 8 8 8 8 8 8 8 8 8 8 8 8 8 8 8 8 8 8 8 8 8 8 8 8 8 8 8 8 8 8 8 8 8 8 8 8 8 8 8 8 8 8 8 8 8 8 8 8 8 8 8 8 8 8 8 8 8 8 8 8 8 8 8 8 8 9 9 9 9 9 9 9 9 9 9 9 9 9 9 9 9 9 9 9 9 9 9 9 9 9 9 9 9 9 9 9 9 9 9 9 9 9 9 9 9 9 9 9 9 9 9 9 9 9 9 9 9 9 9 9 9 9 9 9 9 9 9 9 9 9 9 9 9 9 9 9 9 9 9 9 9 9 9 9 9 9 9 9 9 9 9 9 9 9 9 9 9 9 9 9 9 9 9 9 9 9 9 9 9 9 9 9 9 9 9 9 9 9 9 9 9 9 9 9 9 9 9 9 9 9 9 9 9 9 9 9 9 9 9 9 9 9 9 9 9 9 9 9 9 9 9 9 9 9 9 9 9 9 9 9 9 91010101010101010\n",
      "done.\n",
      "Generating update pair #2 for orders/lineitem tablesdone.\n",
      "Generating update pair #3 for orders/lineitem tablesdone.\n",
      "generated data for the update phase\n",
      "generated data for the delete phase\n",
      "created data files in ./data\n",
      "created query files in ./query_root\n"
     ]
    }
   ],
   "source": [
    "# executando o tpch_pgsql.py com o comando prepare\n",
    "!python3 tpch_pgsql.py prepare -d tpchdb -U tpch -W pass"
   ]
  },
  {
   "cell_type": "code",
   "execution_count": 5,
   "metadata": {},
   "outputs": [
    {
     "name": "stdout",
     "output_type": "stream",
     "text": [
      "dropped existing tables\n",
      "cleaned database tpchdb\n",
      "done creating schemas\n",
      "done loading data to tables\n",
      "done creating indexes and foreign keys\n",
      "============================================================\n",
      "=========================== Load ===========================\n",
      "============================================================\n",
      "create_schema: : 0:00:00.051976\n",
      "load_data: 0:00:30.232754\n",
      "index_tables: 0:00:27.181678\n",
      "============================================================\n",
      "======================= End Results ========================\n",
      "============================================================\n"
     ]
    }
   ],
   "source": [
    "# executando o tpch_pgsql.py com o comando load\n",
    "!python3 tpch_pgsql.py load -d tpchdb -U tpch -W pass"
   ]
  },
  {
   "attachments": {},
   "cell_type": "markdown",
   "metadata": {
    "jp-MarkdownHeadingCollapsed": true
   },
   "source": [
    "### Tarefa 3 – Execução de Consultas"
   ]
  },
  {
   "cell_type": "code",
   "execution_count": 6,
   "metadata": {},
   "outputs": [
    {
     "name": "stdout",
     "output_type": "stream",
     "text": [
      "Power tests started ...\n",
      "Power tests finished.\n",
      "Throughput tests started ...\n",
      "Throughput tests in stream #1 started ...\n",
      "Throughput tests in stream #2 started ...\n",
      "Throughput tests finished.\n",
      "done performance tests\n",
      "Power@Size = 4344.942915119997\n",
      "Throughput@Size = 5937.7603510175995\n",
      "QphH@Size = 5079.294219557905\n",
      "============================================================\n",
      "========================= Metrics ==========================\n",
      "============================================================\n",
      "power_size: 4344.942915119997\n",
      "throughput_size: 5937.7603510175995\n",
      "qphh_size: 5079.294219557905\n",
      "============================================================\n",
      "======================= End Results ========================\n",
      "============================================================\n"
     ]
    }
   ],
   "source": [
    "# executando o tpch_pgsql.py com o comando query\n",
    "!python3 tpch_pgsql.py query -d tpchdb -U tpch -W pass"
   ]
  },
  {
   "attachments": {},
   "cell_type": "markdown",
   "metadata": {
    "jp-MarkdownHeadingCollapsed": true
   },
   "source": [
    "### Tarefa 4 – Identificação do Sistema"
   ]
  },
  {
   "cell_type": "code",
   "execution_count": 8,
   "metadata": {},
   "outputs": [
    {
     "name": "stdout",
     "output_type": "stream",
     "text": [
      "processor\t: 0\n",
      "vendor_id\t: GenuineIntel\n",
      "cpu family\t: 6\n",
      "model\t\t: 165\n",
      "model name\t: Intel(R) Core(TM) i5-10400 CPU @ 2.90GHz\n",
      "stepping\t: 3\n",
      "microcode\t: 0xe0\n",
      "cpu MHz\t\t: 2904.000\n",
      "cache size\t: 12288 KB\n",
      "physical id\t: 0\n",
      "siblings\t: 3\n",
      "core id\t\t: 0\n",
      "cpu cores\t: 3\n",
      "apicid\t\t: 0\n",
      "initial apicid\t: 0\n",
      "fpu\t\t: yes\n",
      "fpu_exception\t: yes\n",
      "cpuid level\t: 22\n",
      "wp\t\t: yes\n",
      "flags\t\t: fpu vme de pse tsc msr pae mce cx8 apic sep mtrr pge mca cmov pat pse36 clflush mmx fxsr sse sse2 ss ht syscall nx pdpe1gb rdtscp lm constant_tsc arch_perfmon nopl xtopology tsc_reliable nonstop_tsc cpuid tsc_known_freq pni pclmulqdq ssse3 fma cx16 pcid sse4_1 sse4_2 x2apic movbe popcnt tsc_deadline_timer aes xsave avx f16c rdrand hypervisor lahf_lm abm 3dnowprefetch invpcid_single ssbd ibrs ibpb stibp ibrs_enhanced fsgsbase tsc_adjust bmi1 avx2 smep bmi2 invpcid rdseed adx smap clflushopt xsaveopt xsavec xgetbv1 xsaves arat md_clear flush_l1d arch_capabilities\n",
      "bugs\t\t: spectre_v1 spectre_v2 spec_store_bypass swapgs itlb_multihit srbds mmio_stale_data retbleed eibrs_pbrsb\n",
      "bogomips\t: 5808.00\n",
      "clflush size\t: 64\n",
      "cache_alignment\t: 64\n",
      "address sizes\t: 45 bits physical, 48 bits virtual\n",
      "power management:\n",
      "\n",
      "processor\t: 1\n",
      "vendor_id\t: GenuineIntel\n",
      "cpu family\t: 6\n",
      "model\t\t: 165\n",
      "model name\t: Intel(R) Core(TM) i5-10400 CPU @ 2.90GHz\n",
      "stepping\t: 3\n",
      "microcode\t: 0xe0\n",
      "cpu MHz\t\t: 2904.000\n",
      "cache size\t: 12288 KB\n",
      "physical id\t: 0\n",
      "siblings\t: 3\n",
      "core id\t\t: 1\n",
      "cpu cores\t: 3\n",
      "apicid\t\t: 1\n",
      "initial apicid\t: 1\n",
      "fpu\t\t: yes\n",
      "fpu_exception\t: yes\n",
      "cpuid level\t: 22\n",
      "wp\t\t: yes\n",
      "flags\t\t: fpu vme de pse tsc msr pae mce cx8 apic sep mtrr pge mca cmov pat pse36 clflush mmx fxsr sse sse2 ss ht syscall nx pdpe1gb rdtscp lm constant_tsc arch_perfmon nopl xtopology tsc_reliable nonstop_tsc cpuid tsc_known_freq pni pclmulqdq ssse3 fma cx16 pcid sse4_1 sse4_2 x2apic movbe popcnt tsc_deadline_timer aes xsave avx f16c rdrand hypervisor lahf_lm abm 3dnowprefetch invpcid_single ssbd ibrs ibpb stibp ibrs_enhanced fsgsbase tsc_adjust bmi1 avx2 smep bmi2 invpcid rdseed adx smap clflushopt xsaveopt xsavec xgetbv1 xsaves arat md_clear flush_l1d arch_capabilities\n",
      "bugs\t\t: spectre_v1 spectre_v2 spec_store_bypass swapgs itlb_multihit srbds mmio_stale_data retbleed eibrs_pbrsb\n",
      "bogomips\t: 5808.00\n",
      "clflush size\t: 64\n",
      "cache_alignment\t: 64\n",
      "address sizes\t: 45 bits physical, 48 bits virtual\n",
      "power management:\n",
      "\n",
      "processor\t: 2\n",
      "vendor_id\t: GenuineIntel\n",
      "cpu family\t: 6\n",
      "model\t\t: 165\n",
      "model name\t: Intel(R) Core(TM) i5-10400 CPU @ 2.90GHz\n",
      "stepping\t: 3\n",
      "microcode\t: 0xe0\n",
      "cpu MHz\t\t: 2904.000\n",
      "cache size\t: 12288 KB\n",
      "physical id\t: 0\n",
      "siblings\t: 3\n",
      "core id\t\t: 2\n",
      "cpu cores\t: 3\n",
      "apicid\t\t: 2\n",
      "initial apicid\t: 2\n",
      "fpu\t\t: yes\n",
      "fpu_exception\t: yes\n",
      "cpuid level\t: 22\n",
      "wp\t\t: yes\n",
      "flags\t\t: fpu vme de pse tsc msr pae mce cx8 apic sep mtrr pge mca cmov pat pse36 clflush mmx fxsr sse sse2 ss ht syscall nx pdpe1gb rdtscp lm constant_tsc arch_perfmon nopl xtopology tsc_reliable nonstop_tsc cpuid tsc_known_freq pni pclmulqdq ssse3 fma cx16 pcid sse4_1 sse4_2 x2apic movbe popcnt tsc_deadline_timer aes xsave avx f16c rdrand hypervisor lahf_lm abm 3dnowprefetch invpcid_single ssbd ibrs ibpb stibp ibrs_enhanced fsgsbase tsc_adjust bmi1 avx2 smep bmi2 invpcid rdseed adx smap clflushopt xsaveopt xsavec xgetbv1 xsaves arat md_clear flush_l1d arch_capabilities\n",
      "bugs\t\t: spectre_v1 spectre_v2 spec_store_bypass swapgs itlb_multihit srbds mmio_stale_data retbleed eibrs_pbrsb\n",
      "bogomips\t: 5808.00\n",
      "clflush size\t: 64\n",
      "cache_alignment\t: 64\n",
      "address sizes\t: 45 bits physical, 48 bits virtual\n",
      "power management:\n",
      "\n",
      "processor\t: 3\n",
      "vendor_id\t: GenuineIntel\n",
      "cpu family\t: 6\n",
      "model\t\t: 165\n",
      "model name\t: Intel(R) Core(TM) i5-10400 CPU @ 2.90GHz\n",
      "stepping\t: 3\n",
      "microcode\t: 0xe0\n",
      "cpu MHz\t\t: 2904.000\n",
      "cache size\t: 12288 KB\n",
      "physical id\t: 1\n",
      "siblings\t: 3\n",
      "core id\t\t: 0\n",
      "cpu cores\t: 3\n",
      "apicid\t\t: 4\n",
      "initial apicid\t: 4\n",
      "fpu\t\t: yes\n",
      "fpu_exception\t: yes\n",
      "cpuid level\t: 22\n",
      "wp\t\t: yes\n",
      "flags\t\t: fpu vme de pse tsc msr pae mce cx8 apic sep mtrr pge mca cmov pat pse36 clflush mmx fxsr sse sse2 ss ht syscall nx pdpe1gb rdtscp lm constant_tsc arch_perfmon nopl xtopology tsc_reliable nonstop_tsc cpuid tsc_known_freq pni pclmulqdq ssse3 fma cx16 pcid sse4_1 sse4_2 x2apic movbe popcnt tsc_deadline_timer aes xsave avx f16c rdrand hypervisor lahf_lm abm 3dnowprefetch invpcid_single ssbd ibrs ibpb stibp ibrs_enhanced fsgsbase tsc_adjust bmi1 avx2 smep bmi2 invpcid rdseed adx smap clflushopt xsaveopt xsavec xgetbv1 xsaves arat md_clear flush_l1d arch_capabilities\n",
      "bugs\t\t: spectre_v1 spectre_v2 spec_store_bypass swapgs itlb_multihit srbds mmio_stale_data retbleed eibrs_pbrsb\n",
      "bogomips\t: 5808.00\n",
      "clflush size\t: 64\n",
      "cache_alignment\t: 64\n",
      "address sizes\t: 45 bits physical, 48 bits virtual\n",
      "power management:\n",
      "\n",
      "processor\t: 4\n",
      "vendor_id\t: GenuineIntel\n",
      "cpu family\t: 6\n",
      "model\t\t: 165\n",
      "model name\t: Intel(R) Core(TM) i5-10400 CPU @ 2.90GHz\n",
      "stepping\t: 3\n",
      "microcode\t: 0xe0\n",
      "cpu MHz\t\t: 2904.000\n",
      "cache size\t: 12288 KB\n",
      "physical id\t: 1\n",
      "siblings\t: 3\n",
      "core id\t\t: 1\n",
      "cpu cores\t: 3\n",
      "apicid\t\t: 5\n",
      "initial apicid\t: 5\n",
      "fpu\t\t: yes\n",
      "fpu_exception\t: yes\n",
      "cpuid level\t: 22\n",
      "wp\t\t: yes\n",
      "flags\t\t: fpu vme de pse tsc msr pae mce cx8 apic sep mtrr pge mca cmov pat pse36 clflush mmx fxsr sse sse2 ss ht syscall nx pdpe1gb rdtscp lm constant_tsc arch_perfmon nopl xtopology tsc_reliable nonstop_tsc cpuid tsc_known_freq pni pclmulqdq ssse3 fma cx16 pcid sse4_1 sse4_2 x2apic movbe popcnt tsc_deadline_timer aes xsave avx f16c rdrand hypervisor lahf_lm abm 3dnowprefetch invpcid_single ssbd ibrs ibpb stibp ibrs_enhanced fsgsbase tsc_adjust bmi1 avx2 smep bmi2 invpcid rdseed adx smap clflushopt xsaveopt xsavec xgetbv1 xsaves arat md_clear flush_l1d arch_capabilities\n",
      "bugs\t\t: spectre_v1 spectre_v2 spec_store_bypass swapgs itlb_multihit srbds mmio_stale_data retbleed eibrs_pbrsb\n",
      "bogomips\t: 5808.00\n",
      "clflush size\t: 64\n",
      "cache_alignment\t: 64\n",
      "address sizes\t: 45 bits physical, 48 bits virtual\n",
      "power management:\n",
      "\n",
      "processor\t: 5\n",
      "vendor_id\t: GenuineIntel\n",
      "cpu family\t: 6\n",
      "model\t\t: 165\n",
      "model name\t: Intel(R) Core(TM) i5-10400 CPU @ 2.90GHz\n",
      "stepping\t: 3\n",
      "microcode\t: 0xe0\n",
      "cpu MHz\t\t: 2904.000\n",
      "cache size\t: 12288 KB\n",
      "physical id\t: 1\n",
      "siblings\t: 3\n",
      "core id\t\t: 2\n",
      "cpu cores\t: 3\n",
      "apicid\t\t: 6\n",
      "initial apicid\t: 6\n",
      "fpu\t\t: yes\n",
      "fpu_exception\t: yes\n",
      "cpuid level\t: 22\n",
      "wp\t\t: yes\n",
      "flags\t\t: fpu vme de pse tsc msr pae mce cx8 apic sep mtrr pge mca cmov pat pse36 clflush mmx fxsr sse sse2 ss ht syscall nx pdpe1gb rdtscp lm constant_tsc arch_perfmon nopl xtopology tsc_reliable nonstop_tsc cpuid tsc_known_freq pni pclmulqdq ssse3 fma cx16 pcid sse4_1 sse4_2 x2apic movbe popcnt tsc_deadline_timer aes xsave avx f16c rdrand hypervisor lahf_lm abm 3dnowprefetch invpcid_single ssbd ibrs ibpb stibp ibrs_enhanced fsgsbase tsc_adjust bmi1 avx2 smep bmi2 invpcid rdseed adx smap clflushopt xsaveopt xsavec xgetbv1 xsaves arat md_clear flush_l1d arch_capabilities\n",
      "bugs\t\t: spectre_v1 spectre_v2 spec_store_bypass swapgs itlb_multihit srbds mmio_stale_data retbleed eibrs_pbrsb\n",
      "bogomips\t: 5808.00\n",
      "clflush size\t: 64\n",
      "cache_alignment\t: 64\n",
      "address sizes\t: 45 bits physical, 48 bits virtual\n",
      "power management:\n",
      "\n",
      "processor\t: 6\n",
      "vendor_id\t: GenuineIntel\n",
      "cpu family\t: 6\n",
      "model\t\t: 165\n",
      "model name\t: Intel(R) Core(TM) i5-10400 CPU @ 2.90GHz\n",
      "stepping\t: 3\n",
      "microcode\t: 0xe0\n",
      "cpu MHz\t\t: 2904.000\n",
      "cache size\t: 12288 KB\n",
      "physical id\t: 2\n",
      "siblings\t: 3\n",
      "core id\t\t: 0\n",
      "cpu cores\t: 3\n",
      "apicid\t\t: 8\n",
      "initial apicid\t: 8\n",
      "fpu\t\t: yes\n",
      "fpu_exception\t: yes\n",
      "cpuid level\t: 22\n",
      "wp\t\t: yes\n",
      "flags\t\t: fpu vme de pse tsc msr pae mce cx8 apic sep mtrr pge mca cmov pat pse36 clflush mmx fxsr sse sse2 ss ht syscall nx pdpe1gb rdtscp lm constant_tsc arch_perfmon nopl xtopology tsc_reliable nonstop_tsc cpuid tsc_known_freq pni pclmulqdq ssse3 fma cx16 pcid sse4_1 sse4_2 x2apic movbe popcnt tsc_deadline_timer aes xsave avx f16c rdrand hypervisor lahf_lm abm 3dnowprefetch invpcid_single ssbd ibrs ibpb stibp ibrs_enhanced fsgsbase tsc_adjust bmi1 avx2 smep bmi2 invpcid rdseed adx smap clflushopt xsaveopt xsavec xgetbv1 xsaves arat md_clear flush_l1d arch_capabilities\n",
      "bugs\t\t: spectre_v1 spectre_v2 spec_store_bypass swapgs itlb_multihit srbds mmio_stale_data retbleed eibrs_pbrsb\n",
      "bogomips\t: 5808.00\n",
      "clflush size\t: 64\n",
      "cache_alignment\t: 64\n",
      "address sizes\t: 45 bits physical, 48 bits virtual\n",
      "power management:\n",
      "\n",
      "processor\t: 7\n",
      "vendor_id\t: GenuineIntel\n",
      "cpu family\t: 6\n",
      "model\t\t: 165\n",
      "model name\t: Intel(R) Core(TM) i5-10400 CPU @ 2.90GHz\n",
      "stepping\t: 3\n",
      "microcode\t: 0xe0\n",
      "cpu MHz\t\t: 2904.000\n",
      "cache size\t: 12288 KB\n",
      "physical id\t: 2\n",
      "siblings\t: 3\n",
      "core id\t\t: 1\n",
      "cpu cores\t: 3\n",
      "apicid\t\t: 9\n",
      "initial apicid\t: 9\n",
      "fpu\t\t: yes\n",
      "fpu_exception\t: yes\n",
      "cpuid level\t: 22\n",
      "wp\t\t: yes\n",
      "flags\t\t: fpu vme de pse tsc msr pae mce cx8 apic sep mtrr pge mca cmov pat pse36 clflush mmx fxsr sse sse2 ss ht syscall nx pdpe1gb rdtscp lm constant_tsc arch_perfmon nopl xtopology tsc_reliable nonstop_tsc cpuid tsc_known_freq pni pclmulqdq ssse3 fma cx16 pcid sse4_1 sse4_2 x2apic movbe popcnt tsc_deadline_timer aes xsave avx f16c rdrand hypervisor lahf_lm abm 3dnowprefetch invpcid_single ssbd ibrs ibpb stibp ibrs_enhanced fsgsbase tsc_adjust bmi1 avx2 smep bmi2 invpcid rdseed adx smap clflushopt xsaveopt xsavec xgetbv1 xsaves arat md_clear flush_l1d arch_capabilities\n",
      "bugs\t\t: spectre_v1 spectre_v2 spec_store_bypass swapgs itlb_multihit srbds mmio_stale_data retbleed eibrs_pbrsb\n",
      "bogomips\t: 5808.00\n",
      "clflush size\t: 64\n",
      "cache_alignment\t: 64\n",
      "address sizes\t: 45 bits physical, 48 bits virtual\n",
      "power management:\n",
      "\n",
      "processor\t: 8\n",
      "vendor_id\t: GenuineIntel\n",
      "cpu family\t: 6\n",
      "model\t\t: 165\n",
      "model name\t: Intel(R) Core(TM) i5-10400 CPU @ 2.90GHz\n",
      "stepping\t: 3\n",
      "microcode\t: 0xe0\n",
      "cpu MHz\t\t: 2904.000\n",
      "cache size\t: 12288 KB\n",
      "physical id\t: 2\n",
      "siblings\t: 3\n",
      "core id\t\t: 2\n",
      "cpu cores\t: 3\n",
      "apicid\t\t: 10\n",
      "initial apicid\t: 10\n",
      "fpu\t\t: yes\n",
      "fpu_exception\t: yes\n",
      "cpuid level\t: 22\n",
      "wp\t\t: yes\n",
      "flags\t\t: fpu vme de pse tsc msr pae mce cx8 apic sep mtrr pge mca cmov pat pse36 clflush mmx fxsr sse sse2 ss ht syscall nx pdpe1gb rdtscp lm constant_tsc arch_perfmon nopl xtopology tsc_reliable nonstop_tsc cpuid tsc_known_freq pni pclmulqdq ssse3 fma cx16 pcid sse4_1 sse4_2 x2apic movbe popcnt tsc_deadline_timer aes xsave avx f16c rdrand hypervisor lahf_lm abm 3dnowprefetch invpcid_single ssbd ibrs ibpb stibp ibrs_enhanced fsgsbase tsc_adjust bmi1 avx2 smep bmi2 invpcid rdseed adx smap clflushopt xsaveopt xsavec xgetbv1 xsaves arat md_clear flush_l1d arch_capabilities\n",
      "bugs\t\t: spectre_v1 spectre_v2 spec_store_bypass swapgs itlb_multihit srbds mmio_stale_data retbleed eibrs_pbrsb\n",
      "bogomips\t: 5808.00\n",
      "clflush size\t: 64\n",
      "cache_alignment\t: 64\n",
      "address sizes\t: 45 bits physical, 48 bits virtual\n",
      "power management:\n",
      "\n",
      "processor\t: 9\n",
      "vendor_id\t: GenuineIntel\n",
      "cpu family\t: 6\n",
      "model\t\t: 165\n",
      "model name\t: Intel(R) Core(TM) i5-10400 CPU @ 2.90GHz\n",
      "stepping\t: 3\n",
      "microcode\t: 0xe0\n",
      "cpu MHz\t\t: 2904.000\n",
      "cache size\t: 12288 KB\n",
      "physical id\t: 3\n",
      "siblings\t: 3\n",
      "core id\t\t: 0\n",
      "cpu cores\t: 3\n",
      "apicid\t\t: 12\n",
      "initial apicid\t: 12\n",
      "fpu\t\t: yes\n",
      "fpu_exception\t: yes\n",
      "cpuid level\t: 22\n",
      "wp\t\t: yes\n",
      "flags\t\t: fpu vme de pse tsc msr pae mce cx8 apic sep mtrr pge mca cmov pat pse36 clflush mmx fxsr sse sse2 ss ht syscall nx pdpe1gb rdtscp lm constant_tsc arch_perfmon nopl xtopology tsc_reliable nonstop_tsc cpuid tsc_known_freq pni pclmulqdq ssse3 fma cx16 pcid sse4_1 sse4_2 x2apic movbe popcnt tsc_deadline_timer aes xsave avx f16c rdrand hypervisor lahf_lm abm 3dnowprefetch invpcid_single ssbd ibrs ibpb stibp ibrs_enhanced fsgsbase tsc_adjust bmi1 avx2 smep bmi2 invpcid rdseed adx smap clflushopt xsaveopt xsavec xgetbv1 xsaves arat md_clear flush_l1d arch_capabilities\n",
      "bugs\t\t: spectre_v1 spectre_v2 spec_store_bypass swapgs itlb_multihit srbds mmio_stale_data retbleed eibrs_pbrsb\n",
      "bogomips\t: 5808.00\n",
      "clflush size\t: 64\n",
      "cache_alignment\t: 64\n",
      "address sizes\t: 45 bits physical, 48 bits virtual\n",
      "power management:\n",
      "\n",
      "processor\t: 10\n",
      "vendor_id\t: GenuineIntel\n",
      "cpu family\t: 6\n",
      "model\t\t: 165\n",
      "model name\t: Intel(R) Core(TM) i5-10400 CPU @ 2.90GHz\n",
      "stepping\t: 3\n",
      "microcode\t: 0xe0\n",
      "cpu MHz\t\t: 2904.000\n",
      "cache size\t: 12288 KB\n",
      "physical id\t: 3\n",
      "siblings\t: 3\n",
      "core id\t\t: 1\n",
      "cpu cores\t: 3\n",
      "apicid\t\t: 13\n",
      "initial apicid\t: 13\n",
      "fpu\t\t: yes\n",
      "fpu_exception\t: yes\n",
      "cpuid level\t: 22\n",
      "wp\t\t: yes\n",
      "flags\t\t: fpu vme de pse tsc msr pae mce cx8 apic sep mtrr pge mca cmov pat pse36 clflush mmx fxsr sse sse2 ss ht syscall nx pdpe1gb rdtscp lm constant_tsc arch_perfmon nopl xtopology tsc_reliable nonstop_tsc cpuid tsc_known_freq pni pclmulqdq ssse3 fma cx16 pcid sse4_1 sse4_2 x2apic movbe popcnt tsc_deadline_timer aes xsave avx f16c rdrand hypervisor lahf_lm abm 3dnowprefetch invpcid_single ssbd ibrs ibpb stibp ibrs_enhanced fsgsbase tsc_adjust bmi1 avx2 smep bmi2 invpcid rdseed adx smap clflushopt xsaveopt xsavec xgetbv1 xsaves arat md_clear flush_l1d arch_capabilities\n",
      "bugs\t\t: spectre_v1 spectre_v2 spec_store_bypass swapgs itlb_multihit srbds mmio_stale_data retbleed eibrs_pbrsb\n",
      "bogomips\t: 5808.00\n",
      "clflush size\t: 64\n",
      "cache_alignment\t: 64\n",
      "address sizes\t: 45 bits physical, 48 bits virtual\n",
      "power management:\n",
      "\n",
      "processor\t: 11\n",
      "vendor_id\t: GenuineIntel\n",
      "cpu family\t: 6\n",
      "model\t\t: 165\n",
      "model name\t: Intel(R) Core(TM) i5-10400 CPU @ 2.90GHz\n",
      "stepping\t: 3\n",
      "microcode\t: 0xe0\n",
      "cpu MHz\t\t: 2904.000\n",
      "cache size\t: 12288 KB\n",
      "physical id\t: 3\n",
      "siblings\t: 3\n",
      "core id\t\t: 2\n",
      "cpu cores\t: 3\n",
      "apicid\t\t: 14\n",
      "initial apicid\t: 14\n",
      "fpu\t\t: yes\n",
      "fpu_exception\t: yes\n",
      "cpuid level\t: 22\n",
      "wp\t\t: yes\n",
      "flags\t\t: fpu vme de pse tsc msr pae mce cx8 apic sep mtrr pge mca cmov pat pse36 clflush mmx fxsr sse sse2 ss ht syscall nx pdpe1gb rdtscp lm constant_tsc arch_perfmon nopl xtopology tsc_reliable nonstop_tsc cpuid tsc_known_freq pni pclmulqdq ssse3 fma cx16 pcid sse4_1 sse4_2 x2apic movbe popcnt tsc_deadline_timer aes xsave avx f16c rdrand hypervisor lahf_lm abm 3dnowprefetch invpcid_single ssbd ibrs ibpb stibp ibrs_enhanced fsgsbase tsc_adjust bmi1 avx2 smep bmi2 invpcid rdseed adx smap clflushopt xsaveopt xsavec xgetbv1 xsaves arat md_clear flush_l1d arch_capabilities\n",
      "bugs\t\t: spectre_v1 spectre_v2 spec_store_bypass swapgs itlb_multihit srbds mmio_stale_data retbleed eibrs_pbrsb\n",
      "bogomips\t: 5808.00\n",
      "clflush size\t: 64\n",
      "cache_alignment\t: 64\n",
      "address sizes\t: 45 bits physical, 48 bits virtual\n",
      "power management:\n",
      "\n"
     ]
    }
   ],
   "source": [
    "# informações da CPU\n",
    "!cat /proc/cpuinfo"
   ]
  },
  {
   "cell_type": "code",
   "execution_count": 12,
   "metadata": {},
   "outputs": [
    {
     "name": "stdout",
     "output_type": "stream",
     "text": [
      "MemTotal:        8104732 kB\n",
      "MemFree:          272776 kB\n",
      "MemAvailable:    2678112 kB\n",
      "Buffers:          109120 kB\n",
      "Cached:          2562596 kB\n",
      "SwapCached:        27968 kB\n",
      "Active:          3048136 kB\n",
      "Inactive:        1752648 kB\n",
      "Active(anon):    1130168 kB\n",
      "Inactive(anon):  1408444 kB\n",
      "Active(file):    1917968 kB\n",
      "Inactive(file):   344204 kB\n",
      "Unevictable:          32 kB\n",
      "Mlocked:              32 kB\n",
      "SwapTotal:       2097148 kB\n",
      "SwapFree:         214752 kB\n",
      "Zswap:                 0 kB\n",
      "Zswapped:              0 kB\n",
      "Dirty:                 0 kB\n",
      "Writeback:             0 kB\n",
      "AnonPages:       2101308 kB\n",
      "Mapped:           700404 kB\n",
      "Shmem:            410296 kB\n",
      "KReclaimable:     456592 kB\n",
      "Slab:            1059196 kB\n",
      "SReclaimable:     456592 kB\n",
      "SUnreclaim:       602604 kB\n",
      "KernelStack:       25744 kB\n",
      "PageTables:        49880 kB\n",
      "NFS_Unstable:          0 kB\n",
      "Bounce:                0 kB\n",
      "WritebackTmp:          0 kB\n",
      "CommitLimit:     6149512 kB\n",
      "Committed_AS:   13803592 kB\n",
      "VmallocTotal:   34359738367 kB\n",
      "VmallocUsed:      468872 kB\n",
      "VmallocChunk:          0 kB\n",
      "Percpu:           143360 kB\n",
      "HardwareCorrupted:     0 kB\n",
      "AnonHugePages:         0 kB\n",
      "ShmemHugePages:        0 kB\n",
      "ShmemPmdMapped:        0 kB\n",
      "FileHugePages:         0 kB\n",
      "FilePmdMapped:         0 kB\n",
      "HugePages_Total:       0\n",
      "HugePages_Free:        0\n",
      "HugePages_Rsvd:        0\n",
      "HugePages_Surp:        0\n",
      "Hugepagesize:       2048 kB\n",
      "Hugetlb:               0 kB\n",
      "DirectMap4k:     1132352 kB\n",
      "DirectMap2M:     7256064 kB\n",
      "DirectMap1G:     2097152 kB\n"
     ]
    }
   ],
   "source": [
    "# memória RAM\n",
    "!cat /proc/meminfo"
   ]
  },
  {
   "cell_type": "code",
   "execution_count": 13,
   "metadata": {},
   "outputs": [
    {
     "name": "stdout",
     "output_type": "stream",
     "text": [
      "Filesystem      Size  Used Avail Use% Mounted on\n",
      "overlay          29G   24G  4.4G  85% /\n",
      "tmpfs            64M     0   64M   0% /dev\n",
      "shm              64M   16K   64M   1% /dev/shm\n",
      "/dev/sda3        29G   24G  4.4G  85% /app/notebook\n",
      "tmpfs           3.9G     0  3.9G   0% /proc/asound\n",
      "tmpfs           3.9G     0  3.9G   0% /proc/acpi\n",
      "tmpfs           3.9G     0  3.9G   0% /proc/scsi\n",
      "tmpfs           3.9G     0  3.9G   0% /sys/firmware\n"
     ]
    }
   ],
   "source": [
    "# tamanho do disco\n",
    "!df -h"
   ]
  },
  {
   "cell_type": "code",
   "execution_count": 14,
   "metadata": {},
   "outputs": [
    {
     "name": "stdout",
     "output_type": "stream",
     "text": [
      "Architecture:                    x86_64\n",
      "CPU op-mode(s):                  32-bit, 64-bit\n",
      "Byte Order:                      Little Endian\n",
      "Address sizes:                   45 bits physical, 48 bits virtual\n",
      "CPU(s):                          12\n",
      "On-line CPU(s) list:             0-11\n",
      "Thread(s) per core:              1\n",
      "Core(s) per socket:              3\n",
      "Socket(s):                       4\n",
      "NUMA node(s):                    1\n",
      "Vendor ID:                       GenuineIntel\n",
      "CPU family:                      6\n",
      "Model:                           165\n",
      "Model name:                      Intel(R) Core(TM) i5-10400 CPU @ 2.90GHz\n",
      "Stepping:                        3\n",
      "CPU MHz:                         2904.000\n",
      "BogoMIPS:                        5808.00\n",
      "Hypervisor vendor:               VMware\n",
      "Virtualization type:             full\n",
      "L1d cache:                       384 KiB\n",
      "L1i cache:                       384 KiB\n",
      "L2 cache:                        3 MiB\n",
      "L3 cache:                        48 MiB\n",
      "NUMA node0 CPU(s):               0-11\n",
      "Vulnerability Itlb multihit:     KVM: Mitigation: VMX unsupported\n",
      "Vulnerability L1tf:              Not affected\n",
      "Vulnerability Mds:               Not affected\n",
      "Vulnerability Meltdown:          Not affected\n",
      "Vulnerability Mmio stale data:   Vulnerable: Clear CPU buffers attempted, no mic\n",
      "                                 rocode; SMT Host state unknown\n",
      "Vulnerability Retbleed:          Mitigation; Enhanced IBRS\n",
      "Vulnerability Spec store bypass: Mitigation; Speculative Store Bypass disabled v\n",
      "                                 ia prctl\n",
      "Vulnerability Spectre v1:        Mitigation; usercopy/swapgs barriers and __user\n",
      "                                  pointer sanitization\n",
      "Vulnerability Spectre v2:        Mitigation; Enhanced IBRS, IBPB conditional, RS\n",
      "                                 B filling, PBRSB-eIBRS SW sequence\n",
      "Vulnerability Srbds:             Unknown: Dependent on hypervisor status\n",
      "Vulnerability Tsx async abort:   Not affected\n",
      "Flags:                           fpu vme de pse tsc msr pae mce cx8 apic sep mtr\n",
      "                                 r pge mca cmov pat pse36 clflush mmx fxsr sse s\n",
      "                                 se2 ss ht syscall nx pdpe1gb rdtscp lm constant\n",
      "                                 _tsc arch_perfmon nopl xtopology tsc_reliable n\n",
      "                                 onstop_tsc cpuid tsc_known_freq pni pclmulqdq s\n",
      "                                 sse3 fma cx16 pcid sse4_1 sse4_2 x2apic movbe p\n",
      "                                 opcnt tsc_deadline_timer aes xsave avx f16c rdr\n",
      "                                 and hypervisor lahf_lm abm 3dnowprefetch invpci\n",
      "                                 d_single ssbd ibrs ibpb stibp ibrs_enhanced fsg\n",
      "                                 sbase tsc_adjust bmi1 avx2 smep bmi2 invpcid rd\n",
      "                                 seed adx smap clflushopt xsaveopt xsavec xgetbv\n",
      "                                 1 xsaves arat md_clear flush_l1d arch_capabilit\n",
      "                                 ies\n"
     ]
    }
   ],
   "source": [
    "# caches\n",
    "!lscpu"
   ]
  },
  {
   "cell_type": "code",
   "execution_count": 16,
   "metadata": {},
   "outputs": [
    {
     "name": "stdout",
     "output_type": "stream",
     "text": [
      "Linux 6a49d7258ccf 5.19.0-43-generic #44~22.04.1-Ubuntu SMP PREEMPT_DYNAMIC Mon May 22 13:39:36 UTC 2 x86_64 GNU/Linux\n"
     ]
    }
   ],
   "source": [
    "# distro e versão\n",
    "!uname -a"
   ]
  },
  {
   "cell_type": "code",
   "execution_count": 17,
   "metadata": {},
   "outputs": [
    {
     "name": "stdout",
     "output_type": "stream",
     "text": [
      "5.19.0-43-generic\n"
     ]
    }
   ],
   "source": [
    "# kernel\n",
    "!uname -r"
   ]
  },
  {
   "attachments": {},
   "cell_type": "markdown",
   "metadata": {
    "jp-MarkdownHeadingCollapsed": true
   },
   "source": [
    "### Tarefa 5 - Verificação de parâmetros de armazenamento\n"
   ]
  },
  {
   "cell_type": "markdown",
   "metadata": {},
   "source": [
    "Obs: só possuo SSDs para os testes (um sata e um M2), então algumas informações não funcionam para SSD."
   ]
  },
  {
   "attachments": {
    "a522cb7a-0b65-4bf7-897c-00a20d6aba6a.png": {
     "image/png": "[encoded data removed]"
    }
   },
   "cell_type": "markdown",
   "metadata": {},
   "source": [
    "Nr. de superfícies, cilindros e setores por trilha: O comando hdparm -g /dev/sdX exibe informações geométricas sobre o disco, incluindo o número de superfícies, cilindros e setores por trilha.\n",
    "\n",
    "![image.png](attachment:a522cb7a-0b65-4bf7-897c-00a20d6aba6a.png)\n",
    "\n"
   ]
  },
  {
   "attachments": {
    "0fdbfcaf-0774-47b7-847c-19d8afc88ec4.png": {
     "image/png": "[encoded data removed]"
    }
   },
   "cell_type": "markdown",
   "metadata": {},
   "source": [
    "Velocidade de rotação e latência rotacional: O comando *hdparm -I /dev/sda* exibe informações detalhadas sobre o disco, incluindo a velocidade de rotação (RPM) e a latência rotacional.\n",
    "Tempos de seek médio, máximo e mínimo: O comando *hdparm -I /dev/sda* também pode fornecer informações sobre os tempos de busca (seek times) do disco.\n",
    "\n",
    "![image.png](attachment:0fdbfcaf-0774-47b7-847c-19d8afc88ec4.png)"
   ]
  },
  {
   "cell_type": "markdown",
   "metadata": {},
   "source": [
    "Tempo para a próxima trilha: O conceito de \"tempo para a próxima trilha\" não se aplica a discos rígidos modernos, pois eles usam técnicas de acesso aleatório. Portanto, essa informação não está disponível diretamente."
   ]
  },
  {
   "cell_type": "markdown",
   "metadata": {},
   "source": [
    "Para verificar os parâmetros do sistema operacional relacionados ao disco, usarei o comando cat */proc/sys/dev/raid/speed_limit_min* para exibir o limite mínimo de velocidade de RAID configurado no sistema."
   ]
  },
  {
   "cell_type": "code",
   "execution_count": 2,
   "metadata": {},
   "outputs": [
    {
     "name": "stdout",
     "output_type": "stream",
     "text": [
      "1000\n"
     ]
    }
   ],
   "source": [
    "!cat /proc/sys/dev/raid/speed_limit_min"
   ]
  },
  {
   "attachments": {
    "99177b98-02cb-4478-a356-4f0dfbc57058.png": {
     "image/png": "[encoded data removed]"
    }
   },
   "cell_type": "markdown",
   "metadata": {},
   "source": [
    "O tamanho do bloco utilizado pelo sistema de arquivos pode ser verificado usando o comando *blockdev --getbsz /dev/sda*. Para alterar o tamanho dos blocos, isso geralmente está relacionado ao sistema de arquivos usado e requer procedimentos específicos, como reformatar a partição com o novo tamanho de bloco desejado. Dependendo do sistema de arquivos, o processo pode variar.\n",
    "\n",
    "![image.png](attachment:99177b98-02cb-4478-a356-4f0dfbc57058.png)"
   ]
  },
  {
   "attachments": {},
   "cell_type": "markdown",
   "metadata": {
    "jp-MarkdownHeadingCollapsed": true
   },
   "source": [
    "## PARTE II"
   ]
  },
  {
   "cell_type": "markdown",
   "metadata": {
    "jp-MarkdownHeadingCollapsed": true
   },
   "source": [
    "### Tarefa 6 – Analisar e descrever os detalhes de armazenamento físico de dados no PostgreSQL. Construir uma tabela comparativa das principais características do sistema. Utilize, se necessário, diagramas, gráficos, etc."
   ]
  },
  {
   "cell_type": "markdown",
   "metadata": {},
   "source": [
    "| Característica                          | Descrição                                                                                                                                                                                                                                                                                                                                                                                                                                                                                                                                                                                                                                                                                                                                                                                                                                                                                                                                |\n",
    "|-----------------------------------------|----------------------------------------------------------------------------------------------------------------------------------------------------------------------------------------------------------------------------------------------------------------------------------------------------------------------------------------------------------------------------------------------------------------------------------------------------------------------------------------------------------------------------------------------------------------------------------------------------------------------------------------------------------------------------------------------------------------------------------------------------------------------------------------------------------------------------------------------------------------------------------------------------------------------------------------|\n",
    "| Armazenamento de dados                   | O PostgreSQL armazena dados em páginas de tamanho fixo, geralmente 8KB. As páginas são organizadas em segmentos de tamanho variável chamados tablespaces, que podem ser configurados para armazenar dados em diferentes locais físicos.                                                                                                                                                                                                                                                                                                                                                                                                                                                                                                                                                                                                                                                                                                 |\n",
    "| Estruturas de armazenamento físico       | O PostgreSQL usa uma combinação de estruturas de armazenamento físico, incluindo arquivos de dados (relações), arquivos de índice (índices), arquivos de log de transações e arquivos de controle.                                                                                                                                                                                                                                                                                                                                                                                                                                                                                                                                                                                                                                                                                     |\n",
    "| Gerenciamento de espaço                  | O PostgreSQL utiliza um sistema de gerenciamento de espaço baseado em páginas, onde as páginas são alocadas dinamicamente para armazenar dados. O sistema mantém um mapa de bits para controlar o espaço livre em cada página e realiza operações de alocação e desalocação de páginas de forma eficiente.                                                                                                                                                                                                                                                                                                                                                                                                                                                                                                                                                               |\n",
    "| Controle de concorrência                 | O PostgreSQL utiliza uma variedade de mecanismos para garantir a consistência e isolamento dos dados em ambientes concorrentes. Isso inclui bloqueios de página, bloqueios de tupla, transações isoladas e um mecanismo de controle de versões chamado MVCC (Multiversion Concurrency Control). O MVCC permite que várias transações acessem simultaneamente o mesmo objeto, garantindo a consistência dos dados.                                                                                                                                                                                                                                                                                                                                                                                   |\n",
    "| Recuperação de falhas                     | O PostgreSQL possui um sistema de recuperação de falhas robusto, baseado em logs de transações e checkpoints. Os logs de transações registram todas as modificações feitas no banco de dados, permitindo a recuperação de dados até um ponto consistente. Os checkpoints são pontos no tempo em que os dados são gravados no disco, garantindo que as modificações sejam duráveis ​​e possam ser recuperadas após uma falha de sistema.                                                                                                                                                                                                                                                                                                                                                                 |\n",
    "| Indexação e otimização de consultas       | O PostgreSQL oferece uma variedade de estruturas de índice, como B-trees, hash indexes, GiST (Generalized Search Tree) e GIN (Generalized Inverted Index), para melhorar o desempenho das consultas. Além disso, o otimizador de consultas do PostgreSQL utiliza estatísticas sobre os dados para escolher o plano de execução mais eficiente. Isso inclui informações sobre distribuição de valores, tamanho de tabelas, cardinalidade, entre outros.                                                                                                                                                                                                                                                                 |\n",
    "| Cache de dados                           | O PostgreSQL utiliza um cache de dados chamado shared buffers, que armazena páginas de dados frequentemente acessadas em memória para reduzir a necessidade de leitura de disco. Além disso, o PostgreSQL também possui um cache de plano de consulta (plan cache) que armazena os planos de execução de consultas anteriores para reutilização, o que pode melhorar o desempenho de consultas repetidas.                                                                                                                                                                                                                                                                                                                                                                  |\n"
   ]
  },
  {
   "cell_type": "markdown",
   "metadata": {},
   "source": [
    "Além das características mencionadas na tabela, algumas informações extras podem ser necessárias ao analisar os detalhes de armazenamento físico no PostgreSQL:\n",
    "- Formato de armazenamento de dados: O PostgreSQL utiliza o formato de armazenamento relacional, onde os dados são organizados em tabelas compostas por linhas e colunas.\n",
    "- Gerenciamento de transações: O PostgreSQL segue o modelo ACID (Atomicidade, Consistência, Isolamento e Durabilidade) para garantir a integridade dos dados durante transações. Ele suporta transações multiplataforma e oferece recursos como rollbacks, commit e pontos de salvamento.\n",
    "- Mecanismos de compressão: O PostgreSQL possui suporte para compressão de dados, o que permite reduzir o tamanho ocupado em disco e melhorar o desempenho de leitura e gravação.\n",
    "- Replicação: O PostgreSQL oferece recursos de replicação, permitindo a criação de cópias de bancos de dados para garantir alta disponibilidade e escalabilidade. Isso inclui replicação assíncrona e síncrona, além de diferentes métodos de replicação, como streaming replication e logical replication.\n",
    "- Gerenciamento de arquivos de log: O PostgreSQL mantém arquivos de log de transações que registram todas as modificações feitas no banco de dados. Esses logs são importantes para recuperação de falhas, replicação e auditoria.\n",
    "- Particionamento de tabelas: O PostgreSQL suporta o particionamento de tabelas, permitindo que grandes conjuntos de dados sejam divididos em partições menores com base em critérios como valores de coluna. Isso melhora o desempenho das consultas e facilita o gerenciamento de grandes volumes de dados.\n",
    "- Suporte a extensões: O PostgreSQL possui um sistema de extensões que permite adicionar funcionalidades extras ao banco de dados. Existem várias extensões disponíveis, como PostGIS para dados geoespaciais, pgcrypto para criptografia, entre outras.\n",
    "- Backup e restauração: O PostgreSQL fornece utilitários para realizar backups e restaurações de bancos de dados, permitindo proteger e recuperar os dados em caso de falhas ou necessidade de migração para outro ambiente.\n",
    "- Configurações de armazenamento: O PostgreSQL permite configurar diversos parâmetros relacionados ao armazenamento, como tamanho de página, tamanho do cache, políticas de autovacuum, entre outros. Essas configurações podem ser ajustadas para otimizar o desempenho e o uso dos recursos de armazenamento."
   ]
  },
  {
   "cell_type": "markdown",
   "metadata": {
    "jp-MarkdownHeadingCollapsed": true
   },
   "source": [
    "### Tarefa 7 – Analisar e descrever os detalhes dos seguintes sistemas de arquivo disponíveis no Linux: Ext2, Ext3, ReiserFS e XFS. Construir uma tabela comparativa das principais características de cada um dos dois sistemas. Utilize, se necessário, diagramas, gráficos, etc."
   ]
  },
  {
   "cell_type": "markdown",
   "metadata": {},
   "source": [
    "Apresentamos os resultados da análise dos seguintes sistemas de arquivo disponíveis no Linux: Ext2, Ext3, ReiserFS e XFS. \n",
    "Foram comparadas suas principais características, como capacidade máxima, tamanho máximo de arquivo, recuperação após falhas, fragmentação de arquivo, suporte a atributos estendidos, controle de acesso, desempenho de leitura e gravação, entre outros aspectos relevantes.\n",
    "\n",
    "A tabela a seguir resume as informações analisadas:"
   ]
  },
  {
   "cell_type": "markdown",
   "metadata": {},
   "source": [
    "| Sistema de Arquivo | Ext2  | Ext3  | ReiserFS  | XFS   |\n",
    "|-------------------|-------|-------|-----------|-------|\n",
    "| Ano de Lançamento | 1993  | 2001  | 1993      | 1993  |\n",
    "| Tipo              | Journaled | Journaled | Journaled | Journaled |\n",
    "| Capacidade Máxima | 2TB   | 2TB   | 16TB      | 8EB   |\n",
    "| Tamanho Máximo de Arquivo | 2TB | 2TB   | 8TB       | 8EB   |\n",
    "| Tamanho Máximo de Nome de Arquivo | 255 Bytes | 255 Bytes | 4032 Bytes | 255 Bytes |\n",
    "| Recuperação Após Falhas | Nenhum | Suporta (Ext3 Journaling) | Suporta (ReiserFS Journaling) | Suporta (XFS Journaling) |\n",
    "| Fragmentação de Arquivo | Sim | Sim | Minimizada | Minimizada |\n",
    "| Suporte a Atributos Estendidos | Sim | Sim | Sim | Sim |\n",
    "| Suporte a Controle de Acesso | Sim | Sim | Sim | Sim |\n",
    "| Suporte a Tamanho de Bloco Variável | Não | Não | Sim | Sim |\n",
    "| Desempenho de Leitura | Bom | Bom | Bom | Excelente |\n",
    "| Desempenho de Gravação | Bom | Moderado | Moderado | Excelente |\n",
    "| Uso em Produção | Sim | Sim | Sim | Sim |\n"
   ]
  },
  {
   "cell_type": "markdown",
   "metadata": {},
   "source": [
    "Com base na análise realizada, podemos observar que cada sistema de arquivo apresenta suas próprias características e trade-offs. O Ext2, por exemplo, é um sistema mais antigo e não possui journaling, o que pode resultar em maior vulnerabilidade a falhas. O Ext3, por sua vez, introduziu o journaling para melhorar a recuperação após falhas, enquanto o ReiserFS e o XFS também oferecem suporte a journaling e apresentam capacidades avançadas, como maior capacidade máxima e tamanho máximo de arquivo.\n",
    "\n",
    "No que diz respeito ao desempenho, o XFS se destaca pela excelente taxa de transferência, tanto em leitura quanto em gravação. Os sistemas Ext2 e Ext3 apresentam desempenho bom, enquanto o ReiserFS oferece um desempenho moderado.\n",
    "\n",
    "Cabe ressaltar que todos os sistemas analisados são amplamente utilizados em produção e oferecem suporte a recursos como atributos estendidos e controle de acesso.\n",
    "\n",
    "Em conclusão, a escolha do sistema de arquivo dependerá das necessidades e requisitos específicos de cada aplicação ou ambiente. É importante considerar fatores como capacidade, desempenho, recuperação após falhas e suporte a recursos avançados ao selecionar o sistema de arquivo mais"
   ]
  },
  {
   "cell_type": "markdown",
   "metadata": {
    "jp-MarkdownHeadingCollapsed": true
   },
   "source": [
    "### Tarefa 8 - Re-executar a carga de dados no PostgreSQL para vários tipos de arquivos e configurações distintas. \n",
    "\n",
    "Os arquivos utilizados devem ter as seguintes características:\n",
    "\n",
    "- 1 arquivo de registros longos (>100 Kb) e com poucos registros (10 mil)\n",
    "\n",
    "- 1 arquivo de registros curtos (<4 Kb) e com muitos registros (1 milhão)\n",
    "\n",
    "- 1 arquivo de registros longos (>100 Kb) e com muitos registros (1 milhão)\n",
    "\n",
    "- 1 arquivo de registros variáveis (ex. muitos NULLS)  e com muitos registros (1 milhão)\n",
    "\n",
    "Para a geração destes arquivos, modificar os scripts configurados na Tarefa 2\n",
    "\n",
    "Para cada arquivo, devem ser usados os seguintes sistemas de arquivos: Ext2, Ext3 e XFS. Para cada carga, medir o tempo necessário para geração dos arquivos e espaço ocupado no disco. \n"
   ]
  },
  {
   "cell_type": "code",
   "execution_count": null,
   "metadata": {},
   "outputs": [],
   "source": []
  },
  {
   "cell_type": "markdown",
   "metadata": {},
   "source": [
    "### Tarefa 9 – Analisar as tabelas da Tarefa 8 explicando os valores de tempo e espaço obtidos. "
   ]
  },
  {
   "cell_type": "code",
   "execution_count": null,
   "metadata": {},
   "outputs": [],
   "source": []
  },
  {
   "cell_type": "markdown",
   "metadata": {
    "jp-MarkdownHeadingCollapsed": true
   },
   "source": [
    "## PARTE III"
   ]
  },
  {
   "cell_type": "markdown",
   "metadata": {},
   "source": [
    "### Tarefa 10 – Preparação de Tabela Exemplo\n",
    "Criar uma tabela com uma chave simples e alguns dados de exemplo. Cada valor de chave é um número incremental e está associado a com valores que variam de 0 até 10:\n",
    "\n",
    "DROP TABLE IF EXISTS t;\n",
    "\n",
    "CREATE TABLE t (k serial PRIMARY KEY, v integer);\n",
    "\n",
    "\n",
    "INSERT INTO t(v) \n",
    "\n",
    "SELECT trunc(random() * 10)  FROM generate_series(1,100000);"
   ]
  },
  {
   "cell_type": "code",
   "execution_count": null,
   "metadata": {},
   "outputs": [],
   "source": []
  },
  {
   "cell_type": "markdown",
   "metadata": {},
   "source": [
    "### Tarefa 11 – Páginas criadas\n",
    "\n",
    "Verifique quantas páginas com blocos foram criadas para a tabela da Tarefa 10.\n",
    "\n",
    "Commando:\n",
    "\\\n",
    "SELECT relname, relpages, reltuples FROM pg_class WHERE relname='t';\n"
   ]
  },
  {
   "cell_type": "code",
   "execution_count": null,
   "metadata": {},
   "outputs": [],
   "source": []
  },
  {
   "cell_type": "markdown",
   "metadata": {},
   "source": [
    "### Tarefa 12 – Blocos\n",
    "\n",
    "Verifique quantos blocos foram efetivamente usados numa consulta\n",
    "\n",
    "Comando:\n",
    "\n",
    "SELECT pg_sleep(1);\n",
    "\\\n",
    "\\pset x on\n",
    "\\\n",
    "SELECT * FROM pg_stats WHERE relname='t';\n",
    "\\\n",
    "SELECT pg_stat_reset();\n",
    "\\\n",
    "\\pset x off\n"
   ]
  },
  {
   "cell_type": "code",
   "execution_count": null,
   "metadata": {},
   "outputs": [],
   "source": []
  },
  {
   "cell_type": "markdown",
   "metadata": {},
   "source": [
    "### Tarefa 13 – Índice\n",
    "\n",
    "Crie um índice para o atributo ‘v’ e realize consultas e criação de índice.\n",
    "\n",
    "Qual o tempo gasto para realizar uma consulta para um valor (tendo a tabela 100000 tuplas)?\n",
    "\\\n",
    "Qual o tempo gasto para recriar um índice para o atributo ‘v’?\n",
    "\n",
    "Remova a tabela ‘t’ e crie novamente com 1.0000.000 de tuplas\n",
    "\n",
    "Qual o tempo gasto para realizar uma consulta para um valor específico?\n",
    "\\\n",
    "Qual o tempo gasto para recriar um índice para o atributo ‘v’?\n"
   ]
  },
  {
   "cell_type": "code",
   "execution_count": null,
   "metadata": {},
   "outputs": [],
   "source": []
  },
  {
   "cell_type": "markdown",
   "metadata": {},
   "source": [
    "### Tarefa 14 - Fill factor\n",
    "\n",
    "Quando se cria um novo índice, nem toda entrada no bloco do índice é usada. Um espaço livre é deixado, conforme o parâmetro fillfactor. \n",
    "\n",
    "Crie novos índices usando fillfactor=60,80,90 e 100. Analise o desempenho de suas consultas usando as mesmas condições da Tarefa 13\n",
    "\n",
    "ALTER TABLE foo SET ( fillfactor = 50);\n",
    "\\\n",
    "VACUUM FULL foo;\n"
   ]
  },
  {
   "cell_type": "code",
   "execution_count": null,
   "metadata": {},
   "outputs": [],
   "source": []
  },
  {
   "cell_type": "markdown",
   "metadata": {},
   "source": [
    "### Tarefa 15 ANULADA"
   ]
  },
  {
   "cell_type": "code",
   "execution_count": null,
   "metadata": {},
   "outputs": [],
   "source": []
  },
  {
   "cell_type": "markdown",
   "metadata": {},
   "source": [
    "### Tarefa 16 - Utilize índices com ordem DESC\n",
    "\n",
    "Repita os testes das Tarefas 13 e 14 usando índices descendentes. Avalie e registre na ficha\n",
    "\n",
    "Comando: \n",
    "\\\n",
    "CREATE INDEX i ON t(v DESC NULLS FIRST);"
   ]
  },
  {
   "cell_type": "code",
   "execution_count": null,
   "metadata": {},
   "outputs": [],
   "source": []
  },
  {
   "cell_type": "markdown",
   "metadata": {
    "jp-MarkdownHeadingCollapsed": true
   },
   "source": [
    "## PARTE IV"
   ]
  },
  {
   "cell_type": "markdown",
   "metadata": {},
   "source": [
    "### Tarefa 17. Preparação e Verificação do Ambiente\n",
    "\n",
    "a) Execute o script movie.sql para criar as tabelas e índices e carregar os dados necessários às próximas atividades\n",
    "\n",
    "b) Verifique no catálogo do banco de dados os seguintes metadados sobre os índices associados às tabelas e apresente-os no relatório: Nome do índice, nome da tabela, altura, número máximo de chaves por bloco, número médio de chaves por bloco, número de blocos folha, número de médio de blocos folha por chave, número médio de blocos de dados por chave, número de linhas e número de chaves distintas.\n"
   ]
  },
  {
   "cell_type": "code",
   "execution_count": null,
   "metadata": {},
   "outputs": [],
   "source": []
  },
  {
   "cell_type": "markdown",
   "metadata": {},
   "source": [
    "### Tarefa 18. Consultas por intervalo e índices secundários\n",
    "\n",
    "a)Escreva uma consulta em SQL sobre o atributo VOTES da tabela MOVIE que recupera um número pequeno de tuplas (<10 tuplas); Execute o comando EXPLAIN sobre esta consulta e apresente os resultados.\n",
    "\n",
    "b)Escreva uma consulta em SQL sobre o atributo VOTES da tabela MOVIE que recupera um número grande de tuplas (>80% das tuplas). Execute o comando EXPLAIN sobre esta consulta e apresente os resultados.\n",
    "\n",
    "c)Explique porque o índice sobre VOTES não é sempre usado nas consultas sobre este atributo. \n"
   ]
  },
  {
   "cell_type": "code",
   "execution_count": null,
   "metadata": {},
   "outputs": [],
   "source": []
  },
  {
   "cell_type": "markdown",
   "metadata": {},
   "source": [
    "### Tarefa 19. Comparações de operadores de agregação.\n",
    "\n",
    "Considere as seguintes consultas em SQL, sobre o atributo VOTES, as quais são equivalentes:\n",
    "\n",
    "SELECT title FROM movie WHERE votes >= (SELECT MAX(votes) FROM movie); \n",
    "\\\n",
    "SELECT title FROM movie WHERE votes >= ALL (SELECT votes FROM movie) ;\n",
    "\n",
    "Apresente o resultado do comando explain sobre as duas consultas acima\n",
    "\n",
    "Existe alguma diferença entre os planos de consultas? Qual das duas é mais eficiente? Explique?\n"
   ]
  },
  {
   "cell_type": "code",
   "execution_count": null,
   "metadata": {},
   "outputs": [],
   "source": []
  },
  {
   "cell_type": "markdown",
   "metadata": {},
   "source": [
    "### Tarefa 20. Consultas com Junção e Seleção\n",
    "Considere as duas consultas equivalentes em SQL a seguir, as quais retornam os filmes com mais votos que “Star Wars” \n",
    "\n",
    "SELECT title FROM movie WHERE votes > (SELECT votes FROM movie WHERE title = 'Star Wars'); \n",
    "\\\n",
    "SELECT m1.title FROM movie m1, movie m2 WHERE m1.votes > m2.votes AND m2.title = 'Star Wars'; \n",
    "\n",
    "Apresente o resultado do comando explain sobre as duas consultas acima\n",
    "\n",
    "Existe alguma diferença entre os planos de consultas? Qual das duas é mais eficiente? Explique?\n"
   ]
  },
  {
   "cell_type": "code",
   "execution_count": null,
   "metadata": {},
   "outputs": [],
   "source": []
  },
  {
   "cell_type": "markdown",
   "metadata": {},
   "source": [
    "### Tarefa 21.  Casamento de Strings e Índices\n",
    "\n",
    "Considere as seguintes consultas SQL sobre o atributo  TITLE usando o operador LIKE. \n",
    "\n",
    "SELECT title FROM movie WHERE title LIKE 'I%'; \n",
    "\\\n",
    "SELECT title FROM movie WHERE substr(title, 1, 1) = 'I'; \n",
    "\\\n",
    "SELECT title FROM movie WHERE title LIKE '%A'; \n",
    "\n",
    "Apresente o resultado do comando explain sobre as três consultas acima\n",
    "\n",
    "Qual das três apresenta o menor custo? Porque? \n",
    "\\\n",
    "O índice sobre TITLE foi usado para todas elas? Justifique. \n"
   ]
  },
  {
   "cell_type": "code",
   "execution_count": null,
   "metadata": {},
   "outputs": [],
   "source": []
  },
  {
   "cell_type": "markdown",
   "metadata": {},
   "source": [
    "### Tarefa 22. Verificação da hipótese de distribuição uniforme na estimativa de seletividade\n",
    "\n",
    "Considere as seguintes  consultas sobre o atributo TITLE da tabela MOVIE\n",
    "\n",
    "SELECT title FROM movie WHERE votes < 1000; \n",
    "\\\n",
    "SELECT title FROM movie WHERE votes > 40000 \n",
    "\n",
    "Apresente o resultado do comando explain sobre as duas consultas acima. Explique o resultado.\n",
    "\n",
    "Compare o número de tuplas selecionadas por cada consulta. Qual das duas tem a menor seletividade?\n"
   ]
  },
  {
   "cell_type": "code",
   "execution_count": null,
   "metadata": {},
   "outputs": [],
   "source": []
  },
  {
   "cell_type": "markdown",
   "metadata": {
    "jp-MarkdownHeadingCollapsed": true
   },
   "source": [
    "## PARTE V"
   ]
  },
  {
   "cell_type": "markdown",
   "metadata": {},
   "source": [
    "### Tarefa 23. Implemente as versões a e b do processo de reserva."
   ]
  },
  {
   "cell_type": "code",
   "execution_count": null,
   "metadata": {},
   "outputs": [],
   "source": []
  },
  {
   "cell_type": "markdown",
   "metadata": {},
   "source": [
    "### Tarefa 24. Apresente gráficos de linha onde, para cada valor de k (número de agentes) no eixo x, temos no eixo y o tempo necessário para que todos os clientes efetuem suas reservas. Um gráfico diferente deve ser apresentado para cada par de versões da reserva e nível de isolamento."
   ]
  },
  {
   "cell_type": "code",
   "execution_count": null,
   "metadata": {},
   "outputs": [],
   "source": []
  },
  {
   "cell_type": "markdown",
   "metadata": {},
   "source": [
    "### Tarefa 25. Apresente uma tabela com o número máximo, mínimo e médio de vezes que um cliente teve que tentar reservar um assento até conseguir, ou seja, o número de vezes que uma reserva teve que ser refeita. A tabela considera as variações de k, versão de reserva e nível de isolamento. "
   ]
  },
  {
   "cell_type": "code",
   "execution_count": null,
   "metadata": {},
   "outputs": [],
   "source": []
  },
  {
   "cell_type": "markdown",
   "metadata": {},
   "source": [
    "### Tarefa 26. Apresente uma análise dos resultados obtidos em cada versão de reserva e tipo de isolamento, explicando as diferenças entre resultados."
   ]
  },
  {
   "cell_type": "code",
   "execution_count": null,
   "metadata": {},
   "outputs": [],
   "source": []
  },
  {
   "cell_type": "code",
   "execution_count": null,
   "metadata": {},
   "outputs": [],
   "source": []
  }
 ],
 "metadata": {
  "kernelspec": {
   "display_name": "Python 3 (ipykernel)",
   "language": "python",
   "name": "python3"
  },
  "language_info": {
   "codemirror_mode": {
    "name": "ipython",
    "version": 3
   },
   "file_extension": ".py",
   "mimetype": "text/x-python",
   "name": "python",
   "nbconvert_exporter": "python",
   "pygments_lexer": "ipython3",
   "version": "3.9.2"
  }
 },
 "nbformat": 4,
 "nbformat_minor": 4
}
